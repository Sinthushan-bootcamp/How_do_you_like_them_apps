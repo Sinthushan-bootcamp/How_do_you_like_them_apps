{
 "cells": [
  {
   "cell_type": "markdown",
   "metadata": {},
   "source": [
    "# Retirement Planner\n",
    "\n",
    "---\n",
    "\n",
    "## Environment Setup"
   ]
  },
  {
   "cell_type": "code",
   "execution_count": 2,
   "metadata": {},
   "outputs": [],
   "source": [
    "# Import libraries and dependencies\n",
    "import numpy as np\n",
    "import pandas as pd\n",
    "import os\n",
    "from datetime import datetime, timedelta\n",
    "import matplotlib.pyplot as plt\n",
    "import alpaca_trade_api as tradeapi\n",
    "%matplotlib inline"
   ]
  },
  {
   "cell_type": "code",
   "execution_count": 3,
   "metadata": {},
   "outputs": [],
   "source": [
    "# Set the random seed for resutls reproducibility (for testing purposes only)\n",
    "np.random.seed(42)"
   ]
  },
  {
   "cell_type": "markdown",
   "metadata": {},
   "source": [
    "---\n",
    "\n",
    "## Portfolio Planner\n",
    "\n",
    "In this activity, you will use the Alpaca API to grab historical data for a `60/40` portfolio using `SPY` to represent the stock portion and `AGG` to represent the bonds."
   ]
  },
  {
   "cell_type": "code",
   "execution_count": 4,
   "metadata": {},
   "outputs": [],
   "source": [
    "# Load .env enviroment variables\n",
    "from dotenv import load_dotenv\n",
    "load_dotenv()\n",
    "\n",
    "# Set Alpaca API key and secret\n",
    "alpaca_api_key = os.getenv(\"ALPACA_API_KEY\")\n",
    "alpaca_secret_key = os.getenv(\"ALPACA_SECRET_KEY\")\n",
    "\n",
    "# Create the Alpaca API object\n",
    "api = tradeapi.REST(\n",
    "    alpaca_api_key,\n",
    "    alpaca_secret_key,\n",
    "    api_version=\"v2\")"
   ]
  },
  {
   "cell_type": "markdown",
   "metadata": {},
   "source": [
    "# Data Collection\n",
    "\n",
    "In this step, you will need to use the Alpaca api to fetch closing prices for the `SPY` and `AGG` tickers. Save the results as a pandas DataFrame"
   ]
  },
  {
   "cell_type": "code",
   "execution_count": 5,
   "metadata": {},
   "outputs": [],
   "source": [
    "# Subset your tickers, then pull returns data:\n",
    "# Set the ticker\n",
    "ticker = [\"SPY\", \"AGG\"]\n",
    "\n",
    "# Set timeframe to '1D'\n",
    "timeframe = \"1D\"\n",
    "\n",
    "# Set start and end datetimes of 1 year, between now and 365 days ago.\n",
    "start_date = pd.Timestamp('2019-01-01', tz='America/New_York').isoformat()\n",
    "end_date = pd.Timestamp('2019-12-31', tz='America/New_York').isoformat()\n",
    "\n",
    "# Get 1 year's worth of historical data for SPY and AGG\n",
    "df = api.get_barset(\n",
    "    ticker,\n",
    "    timeframe,\n",
    "    limit=None,\n",
    "    start=start_date,\n",
    "    end=end_date,\n",
    "    after=None,\n",
    "    until=None,\n",
    ").df\n",
    "\n",
    "# Drop unnecessary columns\n",
    "df = df.drop(\n",
    "    columns=['open', 'high', 'low', 'volume'],\n",
    "    level=1\n",
    ")"
   ]
  },
  {
   "cell_type": "code",
   "execution_count": 6,
   "metadata": {},
   "outputs": [
    {
     "data": {
      "text/html": [
       "<div>\n",
       "<style scoped>\n",
       "    .dataframe tbody tr th:only-of-type {\n",
       "        vertical-align: middle;\n",
       "    }\n",
       "\n",
       "    .dataframe tbody tr th {\n",
       "        vertical-align: top;\n",
       "    }\n",
       "\n",
       "    .dataframe thead tr th {\n",
       "        text-align: left;\n",
       "    }\n",
       "\n",
       "    .dataframe thead tr:last-of-type th {\n",
       "        text-align: right;\n",
       "    }\n",
       "</style>\n",
       "<table border=\"1\" class=\"dataframe\">\n",
       "  <thead>\n",
       "    <tr>\n",
       "      <th></th>\n",
       "      <th>AGG</th>\n",
       "      <th>SPY</th>\n",
       "    </tr>\n",
       "    <tr>\n",
       "      <th></th>\n",
       "      <th>close</th>\n",
       "      <th>close</th>\n",
       "    </tr>\n",
       "    <tr>\n",
       "      <th>time</th>\n",
       "      <th></th>\n",
       "      <th></th>\n",
       "    </tr>\n",
       "  </thead>\n",
       "  <tbody>\n",
       "    <tr>\n",
       "      <th>2019-01-02 00:00:00-05:00</th>\n",
       "      <td>106.585</td>\n",
       "      <td>249.89</td>\n",
       "    </tr>\n",
       "    <tr>\n",
       "      <th>2019-01-03 00:00:00-05:00</th>\n",
       "      <td>107.020</td>\n",
       "      <td>244.46</td>\n",
       "    </tr>\n",
       "    <tr>\n",
       "      <th>2019-01-04 00:00:00-05:00</th>\n",
       "      <td>106.695</td>\n",
       "      <td>252.41</td>\n",
       "    </tr>\n",
       "    <tr>\n",
       "      <th>2019-01-07 00:00:00-05:00</th>\n",
       "      <td>106.470</td>\n",
       "      <td>254.40</td>\n",
       "    </tr>\n",
       "    <tr>\n",
       "      <th>2019-01-08 00:00:00-05:00</th>\n",
       "      <td>106.420</td>\n",
       "      <td>256.65</td>\n",
       "    </tr>\n",
       "  </tbody>\n",
       "</table>\n",
       "</div>"
      ],
      "text/plain": [
       "                               AGG     SPY\n",
       "                             close   close\n",
       "time                                      \n",
       "2019-01-02 00:00:00-05:00  106.585  249.89\n",
       "2019-01-03 00:00:00-05:00  107.020  244.46\n",
       "2019-01-04 00:00:00-05:00  106.695  252.41\n",
       "2019-01-07 00:00:00-05:00  106.470  254.40\n",
       "2019-01-08 00:00:00-05:00  106.420  256.65"
      ]
     },
     "execution_count": 6,
     "metadata": {},
     "output_type": "execute_result"
    }
   ],
   "source": [
    "# Display sample data\n",
    "df.head()"
   ]
  },
  {
   "cell_type": "markdown",
   "metadata": {},
   "source": [
    "---\n",
    "\n",
    "## Monte Carlo Simulation\n",
    "\n",
    "In this step, you will run Monte Carlo Simulations for your portfolio to model portfolio performance at different retirement ages. \n",
    "\n",
    "Complete the following steps:\n",
    "\n",
    "1. Calculate the daily returns for the SPY and AGG closing prices.\n",
    "\n",
    "2. Calculate volatility for both the SPY and AGG closing prices.\n",
    "\n",
    "3. Find the last day's closing price for both stocks and save those as variables\n",
    "\n",
    "4. Run a Monte Carlo Simulation of at least `100` iterations and generate at least `30` years of closing prices\n",
    "\n",
    "**Hint:** There are `252` trading days per year, so the number of records to generate for each Monte Carlo run will be `252 days * 30 years`."
   ]
  },
  {
   "cell_type": "code",
   "execution_count": 7,
   "metadata": {},
   "outputs": [
    {
     "data": {
      "text/html": [
       "<div>\n",
       "<style scoped>\n",
       "    .dataframe tbody tr th:only-of-type {\n",
       "        vertical-align: middle;\n",
       "    }\n",
       "\n",
       "    .dataframe tbody tr th {\n",
       "        vertical-align: top;\n",
       "    }\n",
       "\n",
       "    .dataframe thead tr th {\n",
       "        text-align: left;\n",
       "    }\n",
       "\n",
       "    .dataframe thead tr:last-of-type th {\n",
       "        text-align: right;\n",
       "    }\n",
       "</style>\n",
       "<table border=\"1\" class=\"dataframe\">\n",
       "  <thead>\n",
       "    <tr>\n",
       "      <th></th>\n",
       "      <th>AGG</th>\n",
       "      <th>SPY</th>\n",
       "    </tr>\n",
       "    <tr>\n",
       "      <th></th>\n",
       "      <th>close</th>\n",
       "      <th>close</th>\n",
       "    </tr>\n",
       "    <tr>\n",
       "      <th>time</th>\n",
       "      <th></th>\n",
       "      <th></th>\n",
       "    </tr>\n",
       "  </thead>\n",
       "  <tbody>\n",
       "    <tr>\n",
       "      <th>2019-01-02 00:00:00-05:00</th>\n",
       "      <td>NaN</td>\n",
       "      <td>NaN</td>\n",
       "    </tr>\n",
       "    <tr>\n",
       "      <th>2019-01-03 00:00:00-05:00</th>\n",
       "      <td>0.004081</td>\n",
       "      <td>-0.021730</td>\n",
       "    </tr>\n",
       "    <tr>\n",
       "      <th>2019-01-04 00:00:00-05:00</th>\n",
       "      <td>-0.003037</td>\n",
       "      <td>0.032521</td>\n",
       "    </tr>\n",
       "    <tr>\n",
       "      <th>2019-01-07 00:00:00-05:00</th>\n",
       "      <td>-0.002109</td>\n",
       "      <td>0.007884</td>\n",
       "    </tr>\n",
       "    <tr>\n",
       "      <th>2019-01-08 00:00:00-05:00</th>\n",
       "      <td>-0.000470</td>\n",
       "      <td>0.008844</td>\n",
       "    </tr>\n",
       "  </tbody>\n",
       "</table>\n",
       "</div>"
      ],
      "text/plain": [
       "                                AGG       SPY\n",
       "                              close     close\n",
       "time                                         \n",
       "2019-01-02 00:00:00-05:00       NaN       NaN\n",
       "2019-01-03 00:00:00-05:00  0.004081 -0.021730\n",
       "2019-01-04 00:00:00-05:00 -0.003037  0.032521\n",
       "2019-01-07 00:00:00-05:00 -0.002109  0.007884\n",
       "2019-01-08 00:00:00-05:00 -0.000470  0.008844"
      ]
     },
     "execution_count": 7,
     "metadata": {},
     "output_type": "execute_result"
    }
   ],
   "source": [
    "# Calculate the daily roi for the stocks\n",
    "daily_returns = df.pct_change()\n",
    "# Display sample data\n",
    "daily_returns.head()"
   ]
  },
  {
   "cell_type": "code",
   "execution_count": 8,
   "metadata": {},
   "outputs": [],
   "source": [
    "# Compute daily volatility\n",
    "std_dev_daily_return_AGG = daily_returns.std()[\"AGG\"][\"close\"]\n",
    "std_dev_daily_return_SPY = daily_returns.std()[\"SPY\"][\"close\"]"
   ]
  },
  {
   "cell_type": "code",
   "execution_count": 9,
   "metadata": {
    "tags": []
   },
   "outputs": [],
   "source": [
    "# Computing meean return\n",
    "avg_daily_return_AGG = daily_returns.mean()[\"AGG\"][\"close\"]\n",
    "avg_daily_return_SPY = daily_returns.mean()[\"SPY\"][\"close\"]\n"
   ]
  },
  {
   "cell_type": "code",
   "execution_count": 10,
   "metadata": {},
   "outputs": [],
   "source": [
    "# Save the last day's closing price\n",
    "AGG_last_price = df[\"AGG\"][\"close\"][-1]\n",
    "SPY_last_price = df[\"SPY\"][\"close\"][-1]"
   ]
  },
  {
   "cell_type": "code",
   "execution_count": 11,
   "metadata": {},
   "outputs": [],
   "source": [
    "# Setup the Monte Carlo Parameters\n",
    "number_simulations = 500\n",
    "number_records = 252 * 30\n",
    "monte_carlo = pd.DataFrame()\n",
    "simulated_prices_df = pd.DataFrame()\n",
    "portfolio_cumulative_returns = pd.DataFrame()"
   ]
  },
  {
   "cell_type": "code",
   "execution_count": 12,
   "metadata": {},
   "outputs": [],
   "source": [
    "# Run the Monte Carlo Simulation\n",
    "for n in range(number_simulations):\n",
    "    #in our list of simulated prices we are going to start off with the last real price\n",
    "    simulated_AGG_prices = [AGG_last_price]\n",
    "    simulated_SPY_prices = [SPY_last_price]\n",
    "    # for each simulation we are going to create 30 years worth of trading day closes\n",
    "    for i in range(number_records):\n",
    "        # calculating the simulated price by taking the last price in the list and multiplying from a random return chosen from the normalized distribution of returns\n",
    "        simulated_AGG_price = simulated_AGG_prices[-1] * (1 + np.random.normal(avg_daily_return_AGG, std_dev_daily_return_AGG))\n",
    "        simulated_SPY_price = simulated_SPY_prices[-1] * (1 + np.random.normal(avg_daily_return_SPY, std_dev_daily_return_AGG))\n",
    "\n",
    "        simulated_AGG_prices.append(simulated_AGG_price)\n",
    "        simulated_SPY_prices.append(simulated_SPY_price)\n",
    "    simulated_prices_df['AGG'] = simulated_AGG_prices\n",
    "    simulated_prices_df['SPY'] = simulated_SPY_price\n",
    "    # Calculating the daily returns of the simulated prices\n",
    "    simulated_daily_returns = simulated_prices_df.pct_change()\n",
    "    # Set the weights to the price\n",
    "    weights = [0.4,0.6]\n",
    "    # Apply weights to daily simulate returns\n",
    "    portfolio_daily_returns = simulated_daily_returns.dot(weights)\n",
    "    # Gettting the cumulative returns on the portfolio\n",
    "    portfolio_cumulative_returns[n] = (1 + portfolio_daily_returns.fillna(0)).cumprod()"
   ]
  },
  {
   "cell_type": "code",
   "execution_count": 13,
   "metadata": {},
   "outputs": [
    {
     "data": {
      "text/html": [
       "<div>\n",
       "<style scoped>\n",
       "    .dataframe tbody tr th:only-of-type {\n",
       "        vertical-align: middle;\n",
       "    }\n",
       "\n",
       "    .dataframe tbody tr th {\n",
       "        vertical-align: top;\n",
       "    }\n",
       "\n",
       "    .dataframe thead th {\n",
       "        text-align: right;\n",
       "    }\n",
       "</style>\n",
       "<table border=\"1\" class=\"dataframe\">\n",
       "  <thead>\n",
       "    <tr style=\"text-align: right;\">\n",
       "      <th></th>\n",
       "      <th>0</th>\n",
       "      <th>1</th>\n",
       "      <th>2</th>\n",
       "      <th>3</th>\n",
       "      <th>4</th>\n",
       "      <th>5</th>\n",
       "      <th>6</th>\n",
       "      <th>7</th>\n",
       "      <th>8</th>\n",
       "      <th>9</th>\n",
       "      <th>...</th>\n",
       "      <th>490</th>\n",
       "      <th>491</th>\n",
       "      <th>492</th>\n",
       "      <th>493</th>\n",
       "      <th>494</th>\n",
       "      <th>495</th>\n",
       "      <th>496</th>\n",
       "      <th>497</th>\n",
       "      <th>498</th>\n",
       "      <th>499</th>\n",
       "    </tr>\n",
       "  </thead>\n",
       "  <tbody>\n",
       "    <tr>\n",
       "      <th>0</th>\n",
       "      <td>1.000000</td>\n",
       "      <td>1.000000</td>\n",
       "      <td>1.000000</td>\n",
       "      <td>1.000000</td>\n",
       "      <td>1.000000</td>\n",
       "      <td>1.000000</td>\n",
       "      <td>1.000000</td>\n",
       "      <td>1.000000</td>\n",
       "      <td>1.000000</td>\n",
       "      <td>1.000000</td>\n",
       "      <td>...</td>\n",
       "      <td>1.000000</td>\n",
       "      <td>1.000000</td>\n",
       "      <td>1.000000</td>\n",
       "      <td>1.000000</td>\n",
       "      <td>1.000000</td>\n",
       "      <td>1.000000</td>\n",
       "      <td>1.000000</td>\n",
       "      <td>1.000000</td>\n",
       "      <td>1.000000</td>\n",
       "      <td>1.000000</td>\n",
       "    </tr>\n",
       "    <tr>\n",
       "      <th>1</th>\n",
       "      <td>1.000500</td>\n",
       "      <td>0.999224</td>\n",
       "      <td>0.998837</td>\n",
       "      <td>0.999771</td>\n",
       "      <td>1.000635</td>\n",
       "      <td>1.001437</td>\n",
       "      <td>1.001798</td>\n",
       "      <td>0.998909</td>\n",
       "      <td>1.000310</td>\n",
       "      <td>1.000010</td>\n",
       "      <td>...</td>\n",
       "      <td>1.000328</td>\n",
       "      <td>0.999475</td>\n",
       "      <td>1.001263</td>\n",
       "      <td>0.999920</td>\n",
       "      <td>0.999707</td>\n",
       "      <td>1.000464</td>\n",
       "      <td>0.999269</td>\n",
       "      <td>0.998678</td>\n",
       "      <td>1.000628</td>\n",
       "      <td>0.999699</td>\n",
       "    </tr>\n",
       "    <tr>\n",
       "      <th>2</th>\n",
       "      <td>1.001127</td>\n",
       "      <td>0.999804</td>\n",
       "      <td>0.998562</td>\n",
       "      <td>0.999885</td>\n",
       "      <td>1.001307</td>\n",
       "      <td>0.999821</td>\n",
       "      <td>1.000912</td>\n",
       "      <td>0.997192</td>\n",
       "      <td>1.000196</td>\n",
       "      <td>1.001626</td>\n",
       "      <td>...</td>\n",
       "      <td>1.000598</td>\n",
       "      <td>1.000760</td>\n",
       "      <td>1.001784</td>\n",
       "      <td>1.000116</td>\n",
       "      <td>0.999943</td>\n",
       "      <td>1.000276</td>\n",
       "      <td>0.999154</td>\n",
       "      <td>0.998817</td>\n",
       "      <td>1.000692</td>\n",
       "      <td>1.000259</td>\n",
       "    </tr>\n",
       "    <tr>\n",
       "      <th>3</th>\n",
       "      <td>1.001016</td>\n",
       "      <td>0.999840</td>\n",
       "      <td>0.999211</td>\n",
       "      <td>0.998797</td>\n",
       "      <td>1.001261</td>\n",
       "      <td>1.000608</td>\n",
       "      <td>1.001493</td>\n",
       "      <td>0.996296</td>\n",
       "      <td>1.000169</td>\n",
       "      <td>1.002844</td>\n",
       "      <td>...</td>\n",
       "      <td>1.000584</td>\n",
       "      <td>1.001465</td>\n",
       "      <td>1.002611</td>\n",
       "      <td>1.000256</td>\n",
       "      <td>0.998897</td>\n",
       "      <td>0.999975</td>\n",
       "      <td>0.999665</td>\n",
       "      <td>1.000056</td>\n",
       "      <td>1.001232</td>\n",
       "      <td>0.999914</td>\n",
       "    </tr>\n",
       "    <tr>\n",
       "      <th>4</th>\n",
       "      <td>1.002423</td>\n",
       "      <td>1.000303</td>\n",
       "      <td>0.998421</td>\n",
       "      <td>0.999725</td>\n",
       "      <td>1.001353</td>\n",
       "      <td>0.999606</td>\n",
       "      <td>1.001120</td>\n",
       "      <td>0.995990</td>\n",
       "      <td>1.001554</td>\n",
       "      <td>1.000887</td>\n",
       "      <td>...</td>\n",
       "      <td>1.001023</td>\n",
       "      <td>1.001034</td>\n",
       "      <td>1.002348</td>\n",
       "      <td>1.001401</td>\n",
       "      <td>0.999985</td>\n",
       "      <td>0.999466</td>\n",
       "      <td>0.998741</td>\n",
       "      <td>1.000096</td>\n",
       "      <td>1.002121</td>\n",
       "      <td>1.000538</td>\n",
       "    </tr>\n",
       "  </tbody>\n",
       "</table>\n",
       "<p>5 rows × 500 columns</p>\n",
       "</div>"
      ],
      "text/plain": [
       "        0         1         2         3         4         5         6    \\\n",
       "0  1.000000  1.000000  1.000000  1.000000  1.000000  1.000000  1.000000   \n",
       "1  1.000500  0.999224  0.998837  0.999771  1.000635  1.001437  1.001798   \n",
       "2  1.001127  0.999804  0.998562  0.999885  1.001307  0.999821  1.000912   \n",
       "3  1.001016  0.999840  0.999211  0.998797  1.001261  1.000608  1.001493   \n",
       "4  1.002423  1.000303  0.998421  0.999725  1.001353  0.999606  1.001120   \n",
       "\n",
       "        7         8         9    ...       490       491       492       493  \\\n",
       "0  1.000000  1.000000  1.000000  ...  1.000000  1.000000  1.000000  1.000000   \n",
       "1  0.998909  1.000310  1.000010  ...  1.000328  0.999475  1.001263  0.999920   \n",
       "2  0.997192  1.000196  1.001626  ...  1.000598  1.000760  1.001784  1.000116   \n",
       "3  0.996296  1.000169  1.002844  ...  1.000584  1.001465  1.002611  1.000256   \n",
       "4  0.995990  1.001554  1.000887  ...  1.001023  1.001034  1.002348  1.001401   \n",
       "\n",
       "        494       495       496       497       498       499  \n",
       "0  1.000000  1.000000  1.000000  1.000000  1.000000  1.000000  \n",
       "1  0.999707  1.000464  0.999269  0.998678  1.000628  0.999699  \n",
       "2  0.999943  1.000276  0.999154  0.998817  1.000692  1.000259  \n",
       "3  0.998897  0.999975  0.999665  1.000056  1.001232  0.999914  \n",
       "4  0.999985  0.999466  0.998741  1.000096  1.002121  1.000538  \n",
       "\n",
       "[5 rows x 500 columns]"
      ]
     },
     "execution_count": 13,
     "metadata": {},
     "output_type": "execute_result"
    }
   ],
   "source": [
    "# Check that the simulation ran successfully\n",
    "portfolio_cumulative_returns.head()"
   ]
  },
  {
   "cell_type": "code",
   "execution_count": 14,
   "metadata": {},
   "outputs": [
    {
     "data": {
      "text/plain": [
       "<matplotlib.axes._subplots.AxesSubplot at 0x215d94a1948>"
      ]
     },
     "execution_count": 14,
     "metadata": {},
     "output_type": "execute_result"
    },
    {
     "data": {
      "image/png": "[encoded data removed]",
      "text/plain": [
       "<Figure size 432x288 with 1 Axes>"
      ]
     },
     "metadata": {
      "needs_background": "light"
     },
     "output_type": "display_data"
    }
   ],
   "source": [
    "# Visualize the Simulation\n",
    "portfolio_cumulative_returns.plot(legend=None, title=\"Simulated Retirement Portfolio\")"
   ]
  },
  {
   "cell_type": "code",
   "execution_count": 15,
   "metadata": {},
   "outputs": [
    {
     "data": {
      "text/plain": [
       "0    1.949432\n",
       "1    1.889258\n",
       "2    1.998142\n",
       "3    2.033594\n",
       "4    1.983182\n",
       "Name: 7560, dtype: float64"
      ]
     },
     "execution_count": 15,
     "metadata": {},
     "output_type": "execute_result"
    }
   ],
   "source": [
    "# Select the last row for the cumulative returns (cumulative returns at 20 years)\n",
    "ending_cumulative_returns = portfolio_cumulative_returns.iloc[-1, :]\n",
    "ending_cumulative_returns.head()"
   ]
  },
  {
   "cell_type": "code",
   "execution_count": 16,
   "metadata": {},
   "outputs": [
    {
     "data": {
      "text/plain": [
       "0.05    1.677498\n",
       "0.95    2.118556\n",
       "Name: 7560, dtype: float64"
      ]
     },
     "execution_count": 16,
     "metadata": {},
     "output_type": "execute_result"
    }
   ],
   "source": [
    "# Display the 90% confidence interval for the ending returns\n",
    "confidence_interval = ending_cumulative_returns.quantile(q=[0.05, 0.95])\n",
    "confidence_interval"
   ]
  },
  {
   "cell_type": "code",
   "execution_count": 17,
   "metadata": {},
   "outputs": [
    {
     "data": {
      "text/plain": [
       "<matplotlib.lines.Line2D at 0x215dc1eb948>"
      ]
     },
     "execution_count": 17,
     "metadata": {},
     "output_type": "execute_result"
    },
    {
     "data": {
      "image/png": "[encoded data removed]",
      "text/plain": [
       "<Figure size 432x288 with 1 Axes>"
      ]
     },
     "metadata": {
      "needs_background": "light"
     },
     "output_type": "display_data"
    }
   ],
   "source": [
    "# Visualize the distribution of the ending returns\n",
    "plt.figure()\n",
    "ending_cumulative_returns.plot(kind=\"hist\", density=True, bins=10)\n",
    "plt.axvline(confidence_interval.iloc[0], color=\"r\")\n",
    "plt.axvline(confidence_interval.iloc[1], color=\"r\")"
   ]
  },
  {
   "cell_type": "markdown",
   "metadata": {},
   "source": [
    "---"
   ]
  },
  {
   "cell_type": "markdown",
   "metadata": {},
   "source": [
    "## Retirement Analysis\n",
    "\n",
    "In this section, you will use the monte carlo model to answer the following retirement planning questions:\n",
    "\n",
    "1. What are the expected cumulative returns at `30` years for the `10th`, `50th`, and `90th` percentiles?\n",
    "\n",
    "2. Given an initial investment of `$20,000`, what is the expected return in dollars at the `10th`, `50th`, and `90th` percentiles?\n",
    "\n",
    "3. Given the current projected annual income from the Plaid analysis, will a `4%` withdrawal rate meet or exceed that value at the `10th` percentile? Note: This is basically determining if retirement income is equivalent to current income.\n",
    "\n",
    "4. How would a `50%` increase in the initial investment amount affect the `4%` retirement withdrawal? In other words, what happens if the initial investment had been bigger?"
   ]
  },
  {
   "cell_type": "markdown",
   "metadata": {},
   "source": [
    "### What are the expected cumulative returns at 30 years for the 10th, 50th, and 90th percentiles?"
   ]
  },
  {
   "cell_type": "code",
   "execution_count": 18,
   "metadata": {},
   "outputs": [],
   "source": [
    "# Compute cumulative returns\n",
    "confidence_interval_10 = ending_cumulative_returns.quantile(q=[0.45, 0.55])\n",
    "confidence_interval_50 = ending_cumulative_returns.quantile(q=[0.25, 0.75])\n",
    "confidence_interval_90 = ending_cumulative_returns.quantile(q=[0.05, 0.95])"
   ]
  },
  {
   "cell_type": "markdown",
   "metadata": {},
   "source": [
    "### Given an initial investment of `$20,000`, what is the expected portfolio return in dollars at the 10th, 50th, and 90th percentiles?"
   ]
  },
  {
   "cell_type": "code",
   "execution_count": 19,
   "metadata": {
    "tags": []
   },
   "outputs": [
    {
     "name": "stdout",
     "output_type": "stream",
     "text": [
      "There is a 10% chance that an initial investment of $20,000 in the portfolio over the next 252*30 trading days will end within in the range of $57578.36360234268 and $58048.30370743784\n",
      "There is a 50% chance that an initial investment of $20,000 in the portfolio over the next 252*30 trading days will end within in the range of $56226.738824342785 and $59717.398447080974\n",
      "There is a 90% chance that an initial investment of $20,000 in the portfolio over the next 252*30 trading days will end within in the range of $53549.95875839396 and $62371.11977653568\n"
     ]
    }
   ],
   "source": [
    "# Set initial investment\n",
    "initial_investment = 20000\n",
    "# Compute expected portfolio return\n",
    "investment_pnl_lower_bound_10 = initial_investment + (initial_investment * confidence_interval_10.iloc[0])\n",
    "investment_pnl_upper_bound_10 = initial_investment + (initial_investment * confidence_interval_10.iloc[1])\n",
    "investment_pnl_lower_bound_50 = initial_investment + (initial_investment * confidence_interval_50.iloc[0])\n",
    "investment_pnl_upper_bound_50 = initial_investment + (initial_investment * confidence_interval_50.iloc[1])\n",
    "investment_pnl_lower_bound_90 = initial_investment + (initial_investment * confidence_interval_90.iloc[0])\n",
    "investment_pnl_upper_bound_90 = initial_investment + (initial_investment * confidence_interval_90.iloc[1])\n",
    "print(f\"There is a 10% chance that an initial investment of $20,000 in the portfolio\"\n",
    "      f\" over the next 252*30 trading days will end within in the range of\"\n",
    "      f\" ${investment_pnl_lower_bound_10} and ${investment_pnl_upper_bound_10}\")\n",
    "print(f\"There is a 50% chance that an initial investment of $20,000 in the portfolio\"\n",
    "      f\" over the next 252*30 trading days will end within in the range of\"\n",
    "      f\" ${investment_pnl_lower_bound_50} and ${investment_pnl_upper_bound_50}\")\n",
    "print(f\"There is a 90% chance that an initial investment of $20,000 in the portfolio\"\n",
    "      f\" over the next 252*30 trading days will end within in the range of\"\n",
    "      f\" ${investment_pnl_lower_bound_90} and ${investment_pnl_upper_bound_90}\")"
   ]
  },
  {
   "cell_type": "markdown",
   "metadata": {},
   "source": [
    "### Given the current projected annual income from the Plaid analysis, will a 4% withdraw rate from the retirement portfolio meet or exceed that value at the 10th percentile?\n",
    "\n",
    "Note: This is effectively saying that 90% of the expected returns will be greater than the return at the 10th percentile, so this can help measure the uncertainty about having enough funds at retirement"
   ]
  },
  {
   "cell_type": "code",
   "execution_count": 20,
   "metadata": {
    "tags": []
   },
   "outputs": [
    {
     "name": "stdout",
     "output_type": "stream",
     "text": [
      "A 4% withdrawal does not meet the projected annual income\n"
     ]
    }
   ],
   "source": [
    "# Set Plaid's projected income\n",
    "projected_yearly_income = 6085\n",
    "# Calculate the 4% withdrawal for the ending return as retirement income\n",
    "withdrawal_lower = investment_pnl_lower_bound_90 * 0.04\n",
    "withdrawal_upper = investment_pnl_upper_bound_90 * 0.04\n",
    "# Determine if the retirement income meets or exceeds the current projected income\n",
    "if withdrawal_upper > projected_yearly_income:\n",
    "    print(\"A 4% withdrawal will exceed the projected annual income\")\n",
    "elif withdrawal_upper == projected_yearly_income:\n",
    "    print(\"A 4% withdrawal will meet the projected annual income\")\n",
    "else:\n",
    "    print(\"A 4% withdrawal does not meet the projected annual income\")"
   ]
  },
  {
   "cell_type": "markdown",
   "metadata": {},
   "source": [
    "### How would a 50% increase in the initial investment amount affect the 4% retirement withdrawal?"
   ]
  },
  {
   "cell_type": "code",
   "execution_count": 21,
   "metadata": {
    "tags": []
   },
   "outputs": [
    {
     "name": "stdout",
     "output_type": "stream",
     "text": [
      "A 4% withdrawal does not meet the projected annual income\n"
     ]
    }
   ],
   "source": [
    "# Re-calculate the retirement income with a 50% increase in the initial investment amount\n",
    "# Set initial investment\n",
    "initial_investment_increased = 20000 * 1.5\n",
    "# Compute expected portfolio return\n",
    "investment_pnl_lower_bound_10_increased = initial_investment_increased + (initial_investment_increased * confidence_interval_10.iloc[0])\n",
    "investment_pnl_upper_bound_10_increased = initial_investment_increased + (initial_investment_increased * confidence_interval_10.iloc[1])\n",
    "investment_pnl_lower_bound_50_increased = initial_investment_increased + (initial_investment_increased * confidence_interval_50.iloc[0])\n",
    "investment_pnl_upper_bound_50_increased = initial_investment_increased + (initial_investment_increased * confidence_interval_50.iloc[1])\n",
    "investment_pnl_lower_bound_90_increased = initial_investment_increased + (initial_investment_increased * confidence_interval_90.iloc[0])\n",
    "investment_pnl_upper_bound_90_increased = initial_investment_increased + (initial_investment_increased * confidence_interval_90.iloc[1])\n",
    "\n",
    "withdrawal_lower = investment_pnl_lower_bound_90_increased * 0.04\n",
    "withdrawal_upper = investment_pnl_upper_bound_90_increased * 0.04\n",
    "# Determine if the retirement income meets or exceeds the current projected income\n",
    "if withdrawal_upper > projected_yearly_income:\n",
    "    print(\"A 4% withdrawal will exceed the projected annual income\")\n",
    "elif withdrawal_upper == projected_yearly_income:\n",
    "    print(\"A 4% withdrawal will meet the projected annual income\")\n",
    "else:\n",
    "    print(\"A 4% withdrawal does not meet the projected annual income\")"
   ]
  },
  {
   "cell_type": "markdown",
   "metadata": {},
   "source": [
    "### Optional Challenge\n",
    "\n",
    "Use the Monte Carlo data and calculate the cumulative returns at the `5%`, `50%`, and `95%` quartiles and plot this data as a line chart to see how the cumulative returns change over the life of the investment.\n",
    "\n",
    "In this section, you need to calculate and plot the cumulative returns for the median and `90%` confidence intervals. This plot shows the expected cumulative returns for any given day between the first day and the last day of investment. "
   ]
  },
  {
   "cell_type": "code",
   "execution_count": 37,
   "metadata": {},
   "outputs": [
    {
     "data": {
      "text/html": [
       "<div>\n",
       "<style scoped>\n",
       "    .dataframe tbody tr th:only-of-type {\n",
       "        vertical-align: middle;\n",
       "    }\n",
       "\n",
       "    .dataframe tbody tr th {\n",
       "        vertical-align: top;\n",
       "    }\n",
       "\n",
       "    .dataframe thead th {\n",
       "        text-align: right;\n",
       "    }\n",
       "</style>\n",
       "<table border=\"1\" class=\"dataframe\">\n",
       "  <thead>\n",
       "    <tr style=\"text-align: right;\">\n",
       "      <th></th>\n",
       "      <th>0.05</th>\n",
       "      <th>0.95</th>\n",
       "      <th>0.5</th>\n",
       "    </tr>\n",
       "  </thead>\n",
       "  <tbody>\n",
       "    <tr>\n",
       "      <th>0</th>\n",
       "      <td>1.000000</td>\n",
       "      <td>1.000000</td>\n",
       "      <td>1.000000</td>\n",
       "    </tr>\n",
       "    <tr>\n",
       "      <th>1</th>\n",
       "      <td>0.998758</td>\n",
       "      <td>1.001487</td>\n",
       "      <td>1.000074</td>\n",
       "    </tr>\n",
       "    <tr>\n",
       "      <th>2</th>\n",
       "      <td>0.998402</td>\n",
       "      <td>1.002125</td>\n",
       "      <td>1.000194</td>\n",
       "    </tr>\n",
       "    <tr>\n",
       "      <th>3</th>\n",
       "      <td>0.997965</td>\n",
       "      <td>1.002651</td>\n",
       "      <td>1.000318</td>\n",
       "    </tr>\n",
       "    <tr>\n",
       "      <th>4</th>\n",
       "      <td>0.997620</td>\n",
       "      <td>1.003073</td>\n",
       "      <td>1.000475</td>\n",
       "    </tr>\n",
       "  </tbody>\n",
       "</table>\n",
       "</div>"
      ],
      "text/plain": [
       "       0.05      0.95      0.50\n",
       "0  1.000000  1.000000  1.000000\n",
       "1  0.998758  1.001487  1.000074\n",
       "2  0.998402  1.002125  1.000194\n",
       "3  0.997965  1.002651  1.000318\n",
       "4  0.997620  1.003073  1.000475"
      ]
     },
     "execution_count": 37,
     "metadata": {},
     "output_type": "execute_result"
    }
   ],
   "source": [
    "# Compute projected returns\n",
    "# Display sample data\n",
    "df = portfolio_cumulative_returns.transpose().quantile(q=[0.05]).transpose().join([\n",
    "    portfolio_cumulative_returns.transpose().quantile(q=[0.95]).transpose(),\n",
    "    portfolio_cumulative_returns.transpose().quantile(q=[0.5]).transpose()\n",
    "])\n",
    "df.head()"
   ]
  },
  {
   "cell_type": "code",
   "execution_count": 36,
   "metadata": {},
   "outputs": [
    {
     "data": {
      "text/plain": [
       "<matplotlib.axes._subplots.AxesSubplot at 0x21580190988>"
      ]
     },
     "execution_count": 36,
     "metadata": {},
     "output_type": "execute_result"
    },
    {
     "data": {
      "image/png": "[encoded data removed]",
      "text/plain": [
       "<Figure size 432x288 with 1 Axes>"
      ]
     },
     "metadata": {
      "needs_background": "light"
     },
     "output_type": "display_data"
    }
   ],
   "source": [
    "# Plot the cumulative returns over time\n",
    "df.plot()"
   ]
  },
  {
   "cell_type": "code",
   "execution_count": null,
   "metadata": {},
   "outputs": [],
   "source": [
    "# Compute portfolio performance over time\n",
    "\n",
    "# Plot projected performance over time\n"
   ]
  }
 ],
 "metadata": {
  "kernelspec": {
   "display_name": "Python 3",
   "language": "python",
   "name": "python3"
  },
  "language_info": {
   "codemirror_mode": {
    "name": "ipython",
    "version": 3
   },
   "file_extension": ".py",
   "mimetype": "text/x-python",
   "name": "python",
   "nbconvert_exporter": "python",
   "pygments_lexer": "ipython3",
   "version": "3.7.6"
  }
 },
 "nbformat": 4,
 "nbformat_minor": 4
}
